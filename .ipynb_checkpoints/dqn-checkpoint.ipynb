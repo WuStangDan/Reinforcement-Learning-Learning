{
 "cells": [
  {
   "cell_type": "markdown",
   "metadata": {},
   "source": [
    "# Deep Q-Learning Cartpole\n",
    "\n",
    "Using what I learned in Lazy Programmer's Udemy class Deep Reinforcement Learning in Python, I'm going to try and create my own DQN that can solve OpenAI's Cartpole problem.\n",
    "\n",
    "\n",
    "For dqn, I didn't update Q every action step as should be done when using TD(0). I also didn't update each new state action pair with a set batch. Doing both these things was quite slow in combination (especially fitting on every action step).\n",
    "\n",
    "What I decided to do was treat the Q network more like a neural network. I collected all state action pairs for an entire episode and add these with a large batch (128) of previous pairs (experience replay). Then I fit this entire group for 10 epochs (normally only 1 epoch is used as Q is updated every action step). I found that this greatly increased my run time and greatly increased the stability and consistency of the network. Before it seemed hit or miss off the start whether the agent would converge on a solution. Now it seems to do it reliably (although keeping it at the top once it's reached it is another story)."
   ]
  },
  {
   "cell_type": "code",
   "execution_count": 1,
   "metadata": {},
   "outputs": [
    {
     "name": "stderr",
     "output_type": "stream",
     "text": [
      "Using TensorFlow backend.\n"
     ]
    }
   ],
   "source": [
    "import gym\n",
    "import matplotlib.pyplot as plt\n",
    "import tensorflow as tf\n",
    "import numpy as np\n",
    "import keras\n",
    "from keras.models import Sequential\n",
    "from keras.layers.core import Dense, Dropout, Activation, Flatten\n",
    "from keras.optimizers import SGD, Adam, RMSprop\n",
    "import random\n",
    "from collections import deque"
   ]
  },
  {
   "cell_type": "code",
   "execution_count": 2,
   "metadata": {
    "collapsed": true
   },
   "outputs": [],
   "source": [
    "# Create DQN class.\n",
    "class Agent:\n",
    "    def __init__(self, state_num, action_num):\n",
    "        self.action_num = action_num\n",
    "        self.gamma = 0.95 # Discount rate.\n",
    "        self.batch = 128 # Number of replayed experiences batched together.\n",
    "        self.experiences = deque(maxlen = 3000)\n",
    "        self.episode_experiences = deque()\n",
    "        \n",
    "        # Create Neural Network that will act as a function\n",
    "        # approximator for Q[s,a].\n",
    "        self.model = Sequential()\n",
    "        # First dense layer with relu activation.\n",
    "        self.model.add(Dense(24, input_dim=state_num))\n",
    "        self.model.add(Activation('relu'))\n",
    "        # Second dense layer with relu activation.\n",
    "        self.model.add(Dense(24))\n",
    "        self.model.add(Activation('relu'))\n",
    "        # Output layer with linear activation.\n",
    "        self.model.add(Dense(self.action_num))\n",
    "        self.model.add(Activation('linear'))\n",
    "        # Loss function.\n",
    "        self.model.compile(loss = 'mse', optimizer=Adam(lr = 0.001))#,\n",
    "              #metrics=['categorical_accuracy'])\n",
    "        \n",
    "        self.model.summary()\n",
    "        \n",
    "    def ExploitAction(self, state):\n",
    "        action_values = self.model.predict(state)\n",
    "        exploit_action_index = np.argmax(action_values[0])\n",
    "        return exploit_action_index\n",
    "        \n",
    "    def ExploreAction(self):\n",
    "        return np.random.choice(self.action_num,1)[0]\n",
    "    \n",
    "    def AddEpisodeExperience(self, s, a, r, s2, episode_over):\n",
    "        self.episode_experiences.append((s, a, r, s2, episode_over))\n",
    "    \n",
    "    def UpdateQ(self):\n",
    "        if (len(self.experiences) <= self.batch-1):\n",
    "            self.experiences.extend(self.episode_experiences)\n",
    "            return\n",
    "        # Update not only current state but randomly\n",
    "        # selected experiences to replay.\n",
    "        experience_replay = random.sample(self.experiences, self.batch-1)\n",
    "        \n",
    "        # Add all episode experiences to experiences and replay.\n",
    "        experience_replay.extend(self.episode_experiences)\n",
    "        self.experiences.extend(self.episode_experiences)\n",
    "        self.episode_experiences = deque()\n",
    "        \n",
    "        # Try treating Q more as a deep neural network and less\n",
    "        # like updating a function approximator by doing all inputs at once\n",
    "        # and for multiple epochs.\n",
    "        # THIS GREATLY INCREASED STABILITY OF AGENT AND CONSISTENCY\n",
    "        # OF CONVERGING TO GOOD SOLUTION.\n",
    "        all_s_t0 = np.empty([0,4])\n",
    "        all_target_all = np.empty([0,2])\n",
    "        for s_t0, a_t0, r_t0, s_t1, over in experience_replay:\n",
    "            if (not over):\n",
    "                a_t1_values = self.model.predict(s_t1)[0]\n",
    "                a_t1_value = np.amax(a_t1_values)\n",
    "                target = r_t0 + self.gamma*a_t1_value\n",
    "            else:\n",
    "                target = r_t0\n",
    "                \n",
    "            # Should only change action that was used.\n",
    "            target_all = self.model.predict(s_t0)\n",
    "            target_all[0][a_t0] = target\n",
    "            \n",
    "            # Add to all.\n",
    "            all_s_t0 = np.concatenate((all_s_t0, s_t0), axis=0)\n",
    "            all_target_all = np.concatenate((all_target_all, target_all), axis=0)\n",
    "            \n",
    "        # Update the network.\n",
    "        self.model.fit(all_s_t0, all_target_all, epochs=10, verbose=0)"
   ]
  },
  {
   "cell_type": "code",
   "execution_count": 3,
   "metadata": {
    "collapsed": true
   },
   "outputs": [],
   "source": [
    "def PlayEpisode(env, agent, epsilon):\n",
    "    # Reset playing environment.\n",
    "    s_t0 = env.reset()\n",
    "    s_t0 = np.reshape(s_t0, [1, 4])\n",
    "    \n",
    "    total_episode_reward = 0\n",
    "    time_steps = 0\n",
    "    episode_over = False\n",
    "    \n",
    "    while (not episode_over):\n",
    "        # Determine whether to explore or exploit.\n",
    "        if (np.random.random() < epsilon):\n",
    "            # Explore.\n",
    "            a_t0 = agent.ExploreAction()\n",
    "        else:\n",
    "            # Exploit.\n",
    "            a_t0 = agent.ExploitAction(s_t0)\n",
    "\n",
    "        # Perform action and move to next state.\n",
    "        s_t1, reward, episode_over, info = env.step(a_t0)\n",
    "        time_steps += 1\n",
    "        \n",
    "        total_episode_reward += reward\n",
    "\n",
    "        if episode_over and (time_steps < 500):\n",
    "            reward -= 300\n",
    "            \n",
    "        s_t1 = np.reshape(s_t1, [1, 4])\n",
    "        \n",
    "        # Add to episode experiences\n",
    "        # By not updating now we aren't techincally doing TD but rather\n",
    "        # someting more akin to Monte Carlo, but this should give a big speed\n",
    "        # boost since model.fit is expensive to call every step.\n",
    "        agent.AddEpisodeExperience(s_t0, a_t0, reward, s_t1, episode_over)\n",
    "        # t1 becomes t0.\n",
    "        s_t0 = s_t1\n",
    "    \n",
    "    # Update Q.\n",
    "    agent.UpdateQ()    \n",
    "    \n",
    "    return total_episode_reward     "
   ]
  },
  {
   "cell_type": "code",
   "execution_count": null,
   "metadata": {
    "collapsed": true
   },
   "outputs": [],
   "source": []
  },
  {
   "cell_type": "code",
   "execution_count": null,
   "metadata": {
    "collapsed": true
   },
   "outputs": [],
   "source": [
    "\n"
   ]
  },
  {
   "cell_type": "markdown",
   "metadata": {},
   "source": [
    "## Create Agent and Environment"
   ]
  },
  {
   "cell_type": "code",
   "execution_count": 4,
   "metadata": {},
   "outputs": [
    {
     "name": "stderr",
     "output_type": "stream",
     "text": [
      "[2017-08-18 23:49:09,690] Making new env: CartPole-v1\n"
     ]
    },
    {
     "name": "stdout",
     "output_type": "stream",
     "text": [
      "_________________________________________________________________\n",
      "Layer (type)                 Output Shape              Param #   \n",
      "=================================================================\n",
      "dense_1 (Dense)              (None, 24)                120       \n",
      "_________________________________________________________________\n",
      "activation_1 (Activation)    (None, 24)                0         \n",
      "_________________________________________________________________\n",
      "dense_2 (Dense)              (None, 24)                600       \n",
      "_________________________________________________________________\n",
      "activation_2 (Activation)    (None, 24)                0         \n",
      "_________________________________________________________________\n",
      "dense_3 (Dense)              (None, 2)                 50        \n",
      "_________________________________________________________________\n",
      "activation_3 (Activation)    (None, 2)                 0         \n",
      "=================================================================\n",
      "Total params: 770\n",
      "Trainable params: 770\n",
      "Non-trainable params: 0\n",
      "_________________________________________________________________\n"
     ]
    }
   ],
   "source": [
    "environment = gym.make('CartPole-v1')\n",
    "\n",
    "rl_agent = Agent(environment.observation_space.shape[0],\n",
    "                 environment.action_space.n)"
   ]
  },
  {
   "cell_type": "markdown",
   "metadata": {},
   "source": [
    "## Run Agent"
   ]
  },
  {
   "cell_type": "code",
   "execution_count": 5,
   "metadata": {},
   "outputs": [
    {
     "name": "stdout",
     "output_type": "stream",
     "text": [
      "Episode 0 Average Reward 12.0\n",
      "Episode 20 Average Reward 47.85\n",
      "Episode 40 Average Reward 74.95\n",
      "Episode 60 Average Reward 126.15\n",
      "Episode 80 Average Reward 389.65\n",
      "Episode 100 Average Reward 410.35\n",
      "Episode 120 Average Reward 461.2\n",
      "Episode 140 Average Reward 493.2\n",
      "Episode 160 Average Reward 477.75\n",
      "Episode 180 Average Reward 500.0\n",
      "Episode 200 Average Reward 291.25\n",
      "Episode 220 Average Reward 186.95\n",
      "Episode 240 Average Reward 456.4\n",
      "Episode 260 Average Reward 496.25\n",
      "Episode 280 Average Reward 500.0\n"
     ]
    },
    {
     "data": {
      "image/png": "[encoded data removed]",
      "text/plain": [
       "<matplotlib.figure.Figure at 0x7fd5840bfef0>"
      ]
     },
     "metadata": {},
     "output_type": "display_data"
    }
   ],
   "source": [
    "episode_num = 300\n",
    "all_episode_r = np.zeros(episode_num)\n",
    "max_episode_r = 0\n",
    "best_100_avg = 0\n",
    "\n",
    "for i in range(episode_num):\n",
    "    # Reduce epsilon over time.\n",
    "    eps = 1.0/np.sqrt(i+1)\n",
    "    \n",
    "    # Play episode.\n",
    "    all_episode_r[i] = PlayEpisode(environment, rl_agent, eps)\n",
    "    \n",
    "    if i % 20 == 0:\n",
    "        print(\"Episode\", i, \"Average Reward\", all_episode_r[max(0, i-19):i+1].mean())\n",
    "\n",
    "\n",
    "plt.plot(all_episode_r)\n",
    "plt.title(\"Episode Rewards\")\n",
    "plt.show()"
   ]
  },
  {
   "cell_type": "code",
   "execution_count": 6,
   "metadata": {},
   "outputs": [
    {
     "name": "stdout",
     "output_type": "stream",
     "text": [
      "[[ -1.63482219e-02  -4.36939999e-02  -8.13127816e-05  -3.60705728e-02]]\n"
     ]
    }
   ],
   "source": [
    "s_t0 = environment.reset()\n",
    "s_t0 = np.reshape(s_t0, [1, 4])\n",
    "print(s_t0)\n",
    "#print(np.concatenate((s_t0, s_t0), axis=0))"
   ]
  },
  {
   "cell_type": "code",
   "execution_count": 7,
   "metadata": {},
   "outputs": [
    {
     "name": "stdout",
     "output_type": "stream",
     "text": [
      "[[ -1.63482219e-02  -4.36939999e-02  -8.13127816e-05  -3.60705728e-02]]\n",
      "[[ -1.63482219e-02  -4.36939999e-02  -8.13127816e-05  -3.60705728e-02]\n",
      " [ -1.63482219e-02  -4.36939999e-02  -8.13127816e-05  -3.60705728e-02]]\n"
     ]
    }
   ],
   "source": [
    "asdf = np.empty([0,4])\n",
    "print(np.concatenate((asdf, s_t0), axis=0))\n",
    "s2 = environment.reset()\n",
    "s2 = np.reshape(s_t0, [1,4])\n",
    "print(np.concatenate((s_t0, s2), axis=0))"
   ]
  },
  {
   "cell_type": "code",
   "execution_count": 8,
   "metadata": {
    "collapsed": true
   },
   "outputs": [],
   "source": [
    "from gym.wrappers import Monitor"
   ]
  },
  {
   "cell_type": "code",
   "execution_count": 9,
   "metadata": {},
   "outputs": [
    {
     "ename": "SyntaxError",
     "evalue": "invalid syntax (<ipython-input-9-bceb17af30d8>, line 1)",
     "output_type": "error",
     "traceback": [
      "\u001b[0;36m  File \u001b[0;32m\"<ipython-input-9-bceb17af30d8>\"\u001b[0;36m, line \u001b[0;32m1\u001b[0m\n\u001b[0;31m    asdfa =\u001b[0m\n\u001b[0m            ^\u001b[0m\n\u001b[0;31mSyntaxError\u001b[0m\u001b[0;31m:\u001b[0m invalid syntax\n"
     ]
    }
   ],
   "source": [
    "asdfa = \n",
    "def VideoWrite(i):\n",
    "    return True\n",
    "\n",
    "\n",
    "episode_num = 10\n",
    "all_episode_r = np.zeros(episode_num)\n",
    "#environment = Monitor(environment, directory='tmp/videos',video_callable=VideoWrite, write_upon_reset=True, force=True)\n",
    "    \n",
    "\n",
    "for i in range(episode_num):\n",
    "    all_episode_r[i] = PlayEpisode(environment, rl_agent, 0)\n",
    "        \n",
    "# Required inorder to save final video.\n",
    "environment.reset()\n",
    "\n",
    "print(all_episode_r.mean())\n",
    "plt.plot(all_episode_r)\n",
    "plt.title(\"Best Q 10 Episode Rewards\")\n",
    "plt.show()"
   ]
  },
  {
   "cell_type": "code",
   "execution_count": null,
   "metadata": {
    "collapsed": true
   },
   "outputs": [],
   "source": []
  }
 ],
 "metadata": {
  "kernelspec": {
   "display_name": "Python [conda env:tfpy35]",
   "language": "python",
   "name": "conda-env-tfpy35-py"
  },
  "language_info": {
   "codemirror_mode": {
    "name": "ipython",
    "version": 3
   },
   "file_extension": ".py",
   "mimetype": "text/x-python",
   "name": "python",
   "nbconvert_exporter": "python",
   "pygments_lexer": "ipython3",
   "version": "3.5.3"
  }
 },
 "nbformat": 4,
 "nbformat_minor": 2
}
