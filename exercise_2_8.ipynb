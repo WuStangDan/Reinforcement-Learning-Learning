{
 "cells": [
  {
   "cell_type": "markdown",
   "metadata": {},
   "source": [
    "# Reinforcement Learning: An Introduction\n",
    "\n",
    "### Exercise 2.8\n",
    "\n",
    "k armed bandit problem trying to comapre different methods for tracking nonstationary problems."
   ]
  },
  {
   "cell_type": "code",
   "execution_count": 1,
   "metadata": {
    "collapsed": true
   },
   "outputs": [],
   "source": [
    "import numpy as np\n",
    "\n"
   ]
  },
  {
   "cell_type": "code",
   "execution_count": 58,
   "metadata": {},
   "outputs": [
    {
     "name": "stdout",
     "output_type": "stream",
     "text": [
      "Bandit rewards: [ 0.04183003  0.81949516  1.11128306 -1.47585915 -0.57079222  1.37281122\n",
      "  0.03935014 -0.54514673  0.11759981 -0.83623517]\n"
     ]
    }
   ],
   "source": [
    "# Bandit\n",
    "np.random.seed(14)\n",
    "B = np.random.rand(10)*3 - 1.5\n",
    "print(\"Bandit rewards:\", B)\n",
    "\n",
    "# Setup.\n",
    "k = 10\n",
    "Q = np.zeros(k)\n",
    "N = np.zeros(k, dtype=np.int32)"
   ]
  },
  {
   "cell_type": "code",
   "execution_count": 59,
   "metadata": {},
   "outputs": [],
   "source": [
    "def UCB(Q, N, t, c):\n",
    "    # Prevent division by zero.\n",
    "    N_temp = np.clip(N, 0.0000001, None)\n",
    "    \n",
    "    A = Q + c*np.sqrt(np.log(t)/N_temp)\n",
    "    return np.argmax(A)"
   ]
  },
  {
   "cell_type": "code",
   "execution_count": 61,
   "metadata": {},
   "outputs": [
    {
     "data": {
      "text/plain": [
       "0"
      ]
     },
     "execution_count": 61,
     "metadata": {},
     "output_type": "execute_result"
    }
   ],
   "source": [
    "UCB(Q, N, 11, 0.1)"
   ]
  },
  {
   "cell_type": "code",
   "execution_count": null,
   "metadata": {
    "collapsed": true
   },
   "outputs": [],
   "source": []
  }
 ],
 "metadata": {
  "kernelspec": {
   "display_name": "Python 3",
   "language": "python",
   "name": "python3"
  },
  "language_info": {
   "codemirror_mode": {
    "name": "ipython",
    "version": 3
   },
   "file_extension": ".py",
   "mimetype": "text/x-python",
   "name": "python",
   "nbconvert_exporter": "python",
   "pygments_lexer": "ipython3",
   "version": "3.6.0"
  }
 },
 "nbformat": 4,
 "nbformat_minor": 2
}
