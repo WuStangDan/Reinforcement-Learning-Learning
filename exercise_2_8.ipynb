{
 "cells": [
  {
   "cell_type": "markdown",
   "metadata": {},
   "source": [
    "# Reinforcement Learning: An Introduction\n",
    "\n",
    "### Exercise 2.8\n",
    "\n",
    "k armed bandit problem trying to comapre different methods for tracking nonstationary problems."
   ]
  },
  {
   "cell_type": "code",
   "execution_count": 1,
   "metadata": {
    "collapsed": true
   },
   "outputs": [],
   "source": [
    "import numpy as np\n",
    "\n"
   ]
  },
  {
   "cell_type": "markdown",
   "metadata": {},
   "source": [
    "### Define Actors"
   ]
  },
  {
   "cell_type": "code",
   "execution_count": 82,
   "metadata": {},
   "outputs": [
    {
     "name": "stdout",
     "output_type": "stream",
     "text": [
      "Bandit rewards: [ 0.04183003  0.81949516  1.11128306 -1.47585915 -0.57079222  1.37281122\n",
      "  0.03935014 -0.54514673  0.11759981 -0.83623517]\n"
     ]
    }
   ],
   "source": [
    "# Bandit\n",
    "np.random.seed(14)\n",
    "B = np.random.rand(10)*3 - 1.5\n",
    "print(\"Bandit rewards:\", B)\n",
    "\n",
    "def Bandit(arm, B):\n",
    "    return B[arm]"
   ]
  },
  {
   "cell_type": "code",
   "execution_count": 62,
   "metadata": {},
   "outputs": [],
   "source": [
    "# UCB.\n",
    "def UCB(Q, N, t, c):\n",
    "    # Prevent division by zero.\n",
    "    N_temp = np.clip(N, 0.0000001, None)\n",
    "    \n",
    "    A = Q + c*np.sqrt(np.log(t)/N_temp)\n",
    "    return np.argmax(A)"
   ]
  },
  {
   "cell_type": "code",
   "execution_count": 74,
   "metadata": {},
   "outputs": [],
   "source": [
    "# Gradient Bandit.\n",
    "def GradientBandit(Q):\n",
    "    e_Q = np.exp(Q)\n",
    "    P_a = e_Q / np.sum(e_Q)\n",
    "    return np.random.choice(k, p=P_a)"
   ]
  },
  {
   "cell_type": "code",
   "execution_count": 79,
   "metadata": {
    "collapsed": true
   },
   "outputs": [],
   "source": [
    "# Epsilon Greedy.\n",
    "def EpsilonGreedy(Q, epsilon):\n",
    "    if np.random.rand(1) > epsilon:\n",
    "        # Exploit\n",
    "        return np.argmax(Q)\n",
    "    else:\n",
    "        # Explore\n",
    "        return np.random.choice(k)"
   ]
  },
  {
   "cell_type": "code",
   "execution_count": 80,
   "metadata": {
    "collapsed": true
   },
   "outputs": [],
   "source": [
    "# Greedy with optimisitic Q_0 is just EpsilonGreedy with different Initial Q values.\n",
    "def OptimisiticInit(Q, Q_0):\n",
    "    Q += Q_0\n",
    "    return Q"
   ]
  },
  {
   "cell_type": "markdown",
   "metadata": {},
   "source": [
    "### Run Simulation"
   ]
  },
  {
   "cell_type": "code",
   "execution_count": 163,
   "metadata": {},
   "outputs": [
    {
     "name": "stdout",
     "output_type": "stream",
     "text": [
      "0.677021745594\n"
     ]
    }
   ],
   "source": [
    "# Run Simulation\n",
    "\n",
    "# Setup.\n",
    "k = 10\n",
    "total_rewards = 0\n",
    "\n",
    "epsilon = 1/128\n",
    "alpha = 0.1\n",
    "\n",
    "epochs = 500\n",
    "runs = 1000\n",
    "\n",
    "\n",
    "for e in range(epochs):\n",
    "    epoch_rewards = 0\n",
    "    Q = np.zeros(k)\n",
    "    N = np.zeros(k, dtype=np.int32)\n",
    "    for t in range(1, runs+1):\n",
    "        a = EpsilonGreedy(Q, epsilon)\n",
    "        r = Bandit(a, B)\n",
    "        Q[a] = Q[a] + alpha* (r - Q[a])\n",
    "        epoch_rewards += r\n",
    "    total_rewards += epoch_rewards/runs\n",
    "    \n",
    "print(total_rewards/(epochs))"
   ]
  },
  {
   "cell_type": "code",
   "execution_count": null,
   "metadata": {},
   "outputs": [],
   "source": []
  },
  {
   "cell_type": "code",
   "execution_count": null,
   "metadata": {
    "collapsed": true
   },
   "outputs": [],
   "source": []
  }
 ],
 "metadata": {
  "kernelspec": {
   "display_name": "Python 3",
   "language": "python",
   "name": "python3"
  },
  "language_info": {
   "codemirror_mode": {
    "name": "ipython",
    "version": 3
   },
   "file_extension": ".py",
   "mimetype": "text/x-python",
   "name": "python",
   "nbconvert_exporter": "python",
   "pygments_lexer": "ipython3",
   "version": "3.6.0"
  }
 },
 "nbformat": 4,
 "nbformat_minor": 2
}
