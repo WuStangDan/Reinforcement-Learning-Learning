{
 "cells": [
  {
   "cell_type": "code",
   "execution_count": 1,
   "metadata": {},
   "outputs": [
    {
     "name": "stdout",
     "output_type": "stream",
     "text": [
      "3.6.9 (default, Jan 26 2021, 15:33:00) \n",
      "[GCC 8.4.0]\n",
      "\n",
      "Tensorflow 2.5.0\n",
      "[PhysicalDevice(name='/physical_device:GPU:0', device_type='GPU')]\n",
      "\n"
     ]
    }
   ],
   "source": [
    "# Imports.\n",
    "import sys\n",
    "print(sys.version)\n",
    "print()\n",
    "from collections import deque\n",
    "import matplotlib.pyplot as plt\n",
    "import gym\n",
    "import random\n",
    "import time\n",
    "import numpy as np\n",
    "from tqdm.notebook import trange\n",
    "import tensorflow as tf\n",
    "print(\"Tensorflow\", tf.__version__)\n",
    "from tensorflow import keras\n",
    "from tensorflow.keras import layers\n",
    "from tensorflow.keras import optimizers\n",
    "print(tf.config.list_physical_devices('GPU'))\n",
    "print()\n",
    "import slimevolleygym"
   ]
  },
  {
   "cell_type": "code",
   "execution_count": 2,
   "metadata": {},
   "outputs": [],
   "source": [
    "from IPython import display\n",
    "from pyvirtualdisplay import Display\n",
    "displayy = Display(visible=0, size=(1, 1))\n",
    "displayy.start()\n",
    "%matplotlib inline"
   ]
  },
  {
   "cell_type": "markdown",
   "metadata": {},
   "source": [
    "# Deep Q Network Agent"
   ]
  },
  {
   "cell_type": "code",
   "execution_count": 3,
   "metadata": {},
   "outputs": [],
   "source": [
    "class Agent:\n",
    "    def __init__(self, state_num, action_num):\n",
    "        self.action_num = action_num\n",
    "        self.state_num = state_num\n",
    "        self.gamma = 0.95 # Discount rate.\n",
    "        self.replay_batch = 128 # Number of replayed experiences added together.\n",
    "        self.experiences = deque(maxlen=10000) # Total number of experiences.\n",
    "        self.episode_experiences = deque()\n",
    "        \n",
    "        # Create NN that will act as function approximator for Q[s,a].\n",
    "        self.model = keras.Sequential()\n",
    "        # First dense layer with relu activation.\n",
    "        self.model.add(layers.Dense(400, input_dim=state_num, activation=\"relu\"))\n",
    "        self.model.add(layers.Dense(100, activation=\"relu\"))\n",
    "        self.model.add(layers.Dense(action_num, activation=\"linear\"))\n",
    "        \n",
    "        # Loss function.\n",
    "        self.model.compile(loss='mse', optimizer=optimizers.Adam(learning_rate=0.001))\n",
    "        \n",
    "        self.model.summary()\n",
    "        \n",
    "        self.model_history = []\n",
    "        \n",
    "        # Create target model copy.\n",
    "        self.target_model = keras.models.clone_model(self.model)\n",
    "        self.target_model.set_weights(self.model.get_weights())\n",
    "        self.start_training = False\n",
    "                \n",
    "    def ExploitAction(self, state):\n",
    "        state = np.reshape(state, [1, self.state_num])\n",
    "        # Take the best possible action.\n",
    "        action_values = self.model(state, training=False)\n",
    "        exploit_action_index = np.argmax(action_values[0])\n",
    "        return exploit_action_index\n",
    "    \n",
    "    def ExploreAction(self):\n",
    "        # Take a random action to explore the [s,a] space.\n",
    "        return np.random.choice(self.action_num, 1)[0]\n",
    "    \n",
    "    def AddExperience(self, s, a, r, s2, episode_over):\n",
    "        s = np.reshape(s, [1, self.state_num])\n",
    "        s2 = np.reshape(s2, [1, self.state_num])\n",
    "        # Add experience to a que.\n",
    "        self.experiences.append((s, a, r, s2, episode_over))\n",
    "    \n",
    "    # This is because we will run fit only once per episode.\n",
    "    def AddEpisodeExperience(self, s, a, r, s2, episode_over):\n",
    "        self.episode_experiences.append((s, a, r, s2, episode_over))\n",
    "        \n",
    "    def UpdateQ(self):\n",
    "        # Don't start training until experiences is 25% full.\n",
    "        if (len(self.experiences) < (self.experiences.maxlen/4)):\n",
    "            self.experiences.extend(self.episode_experiences)\n",
    "            self.episode_experiences = deque()\n",
    "            return\n",
    "        else:\n",
    "            if not self.start_training:\n",
    "                self.start_training = True\n",
    "                print(\"Start training.\")\n",
    "        \n",
    "        # Select from random experiences excluding most recent.\n",
    "        selected_experiences = random.sample(self.experiences, self.replay_batch)\n",
    "        # Append most recent experience.\n",
    "        selected_experiences.extend(self.episode_experiences)\n",
    "        batch = len(selected_experiences)\n",
    "\n",
    "        # Collect all next state Q values.\n",
    "        s_t0s = np.zeros([batch, self.state_num])\n",
    "        s_t1s = np.zeros([batch, self.state_num])\n",
    "        for i in range(len(selected_experiences)):\n",
    "            s_t0s[i] = selected_experiences[i][0]\n",
    "            s_t1s[i] = selected_experiences[i][3]\n",
    "        \n",
    "        a_t1_values = self.target_model.predict(s_t1s)\n",
    "        max_a_t1_value = np.amax(a_t1_values, axis=1)\n",
    "        \n",
    "        targets = self.model.predict(s_t0s)\n",
    "        states = np.zeros([batch, self.state_num])\n",
    "        i = 0\n",
    "        for s_t0, a_t0, r_t0, s_t1, over in selected_experiences:\n",
    "            states[i] = s_t0\n",
    "            if (not over):\n",
    "                targets[i][a_t0] = r_t0 + self.gamma*max_a_t1_value[i]\n",
    "            else:\n",
    "                targets[i][a_t0] = r_t0\n",
    "            i+=1\n",
    "\n",
    "        output = self.model.fit(states, targets, epochs=1, verbose=0)\n",
    "            \n",
    "        self.model_history += [output.history['loss']]\n",
    "        \n",
    "        self.episode_experiences = deque()"
   ]
  },
  {
   "cell_type": "code",
   "execution_count": 4,
   "metadata": {},
   "outputs": [],
   "source": [
    "def PlayEpisode(env, agent, epsilon):\n",
    "    # Reset playing environment.\n",
    "    observation = env.reset()\n",
    "    \n",
    "    total_episode_reward = 0\n",
    "    \n",
    "    episode_done = False\n",
    "    while not episode_done:\n",
    "        # Explore or exploit.\n",
    "        if (random.random() < epsilon):\n",
    "            # Explore.\n",
    "            action = agent.ExploreAction()\n",
    "        else:\n",
    "            # Exploit.\n",
    "            action = agent.ExploitAction(observation)\n",
    "        \n",
    "        # Perform action and state transition.\n",
    "        action_reshaped = np.zeros(agent.action_num)\n",
    "        action_reshaped[action] = 1\n",
    "        next_observation, reward, episode_done, info = env.step(action_reshaped)\n",
    "        \n",
    "        total_episode_reward += reward\n",
    "        \n",
    "        # Add to step to experiences.\n",
    "        agent.AddEpisodeExperience(observation, action, reward, next_observation, episode_done)\n",
    "        \n",
    "        # Next observation becomes current.\n",
    "        observation = next_observation\n",
    "\n",
    "    # Train once per episode.\n",
    "    agent.UpdateQ()\n",
    "    return total_episode_reward\n",
    "\n",
    "def EvalEpisode(env, agent, episodes):\n",
    "    total_reward = 0\n",
    "    for _ in range(episodes):\n",
    "        observation = env.reset()\n",
    "        episode_done = False\n",
    "        i = 0\n",
    "        while not episode_done:\n",
    "            action = agent.ExploitAction(observation)\n",
    "            action_reshaped = np.zeros(agent.action_num)\n",
    "            action_reshaped[action] = 1\n",
    "            next_observation, reward, episode_done, info = env.step(action_reshaped)\n",
    "            total_reward += reward\n",
    "            observation = next_observation\n",
    "    return total_reward/episodes"
   ]
  },
  {
   "cell_type": "markdown",
   "metadata": {},
   "source": [
    "# Create Agent and Environment"
   ]
  },
  {
   "cell_type": "code",
   "execution_count": 5,
   "metadata": {},
   "outputs": [
    {
     "name": "stdout",
     "output_type": "stream",
     "text": [
      "Observation Space (12,)\n",
      "Action Space (3,)\n",
      "Model: \"sequential\"\n",
      "_________________________________________________________________\n",
      "Layer (type)                 Output Shape              Param #   \n",
      "=================================================================\n",
      "dense (Dense)                (None, 400)               5200      \n",
      "_________________________________________________________________\n",
      "dense_1 (Dense)              (None, 100)               40100     \n",
      "_________________________________________________________________\n",
      "dense_2 (Dense)              (None, 3)                 303       \n",
      "=================================================================\n",
      "Total params: 45,603\n",
      "Trainable params: 45,603\n",
      "Non-trainable params: 0\n",
      "_________________________________________________________________\n"
     ]
    }
   ],
   "source": [
    "env = gym.make('SlimeVolley-v0')\n",
    "print(\"Observation Space \" + str(env.observation_space.shape))\n",
    "print(\"Action Space \" + str(env.action_space.shape))\n",
    "\n",
    "agent = Agent(len(env.observation_space.sample()), env.action_space.n)"
   ]
  },
  {
   "cell_type": "code",
   "execution_count": 6,
   "metadata": {},
   "outputs": [],
   "source": [
    "class BestModel:\n",
    "    def __init__(self, agent):\n",
    "        self.best_model = keras.models.clone_model(agent.model)\n",
    "        self.best_model.set_weights(agent.model.get_weights())\n",
    "        self.state_num = agent.state_num\n",
    "        self.best_score = -10\n",
    "        self.update_index = 0\n",
    "    def UpdateBest(self, agent, eval_score, i):\n",
    "        if (eval_score > self.best_score):\n",
    "            self.best_model.set_weights(agent.model.get_weights())\n",
    "            self.best_score = eval_score\n",
    "            self.update_index = i\n",
    "            print(\"New best!\")\n",
    "    def RunBest(self, state):\n",
    "        state = np.reshape(state, [1, self.state_num])\n",
    "        action = self.best_model(state, training=False)\n",
    "        return np.argmax(action[0])\n",
    "\n",
    "bmodel = BestModel(agent)"
   ]
  },
  {
   "cell_type": "markdown",
   "metadata": {},
   "source": [
    "## Run Training"
   ]
  },
  {
   "cell_type": "code",
   "execution_count": 7,
   "metadata": {},
   "outputs": [
    {
     "data": {
      "application/vnd.jupyter.widget-view+json": {
       "model_id": "6432367088804ce4aef20613667fc54c",
       "version_major": 2,
       "version_minor": 0
      },
      "text/plain": [
       "  0%|          | 0/401 [00:00<?, ?it/s]"
      ]
     },
     "metadata": {},
     "output_type": "display_data"
    },
    {
     "name": "stdout",
     "output_type": "stream",
     "text": [
      "Start training.\n",
      "\n",
      "Episode 100 Eval Avg -5.0\n",
      "New best!\n",
      "Elapsed time: 85.08\n",
      "\n",
      "Episode 200 Eval Avg -4.9\n",
      "New best!\n",
      "Elapsed time: 88.78\n",
      "\n",
      "Episode 300 Eval Avg -4.9\n",
      "Elapsed time: 93.2\n",
      "\n",
      "Episode 400 Eval Avg -4.8\n",
      "New best!\n",
      "Elapsed time: 99.38\n"
     ]
    },
    {
     "data": {
      "image/png": "[encoded data removed]",
      "text/plain": [
       "<Figure size 432x288 with 1 Axes>"
      ]
     },
     "metadata": {
      "needs_background": "light"
     },
     "output_type": "display_data"
    }
   ],
   "source": [
    "episode_num = 401\n",
    "start = time.time()\n",
    "\n",
    "eval_score = []\n",
    "for i in trange(episode_num):\n",
    "    # Decay epsilon.\n",
    "    eps = 1.0/np.sqrt(i+1)\n",
    "    \n",
    "    # Play episode.\n",
    "    PlayEpisode(env, agent, eps)\n",
    "    if i%10 == 0 and i != 0:\n",
    "        agent.target_model.set_weights(agent.model.get_weights())\n",
    "\n",
    "    if i%100 == 0 and i != 0:\n",
    "        eval_score += [EvalEpisode(env, agent, 10)]\n",
    "        print(\"\\nEpisode\", i, \"Eval Avg\", eval_score[-1])\n",
    "        bmodel.UpdateBest(agent, eval_score[-1], i)\n",
    "        print(\"Elapsed time:\", round(time.time() - start, 2))\n",
    "        start = time.time()\n",
    "\n",
    "plt.plot(eval_score)\n",
    "plt.title(\"Avg Episode Rewards\")\n",
    "plt.show()"
   ]
  },
  {
   "cell_type": "code",
   "execution_count": 8,
   "metadata": {},
   "outputs": [
    {
     "data": {
      "image/png": "[encoded data removed]",
      "text/plain": [
       "<Figure size 432x288 with 1 Axes>"
      ]
     },
     "metadata": {
      "needs_background": "light"
     },
     "output_type": "display_data"
    }
   ],
   "source": [
    "plt.plot(agent.model_history)\n",
    "plt.title('Loss')\n",
    "plt.show()"
   ]
  },
  {
   "cell_type": "markdown",
   "metadata": {},
   "source": [
    "## Watching a Game"
   ]
  },
  {
   "cell_type": "code",
   "execution_count": 9,
   "metadata": {},
   "outputs": [
    {
     "data": {
      "image/png": "[encoded data removed]",
      "text/plain": [
       "<Figure size 432x288 with 1 Axes>"
      ]
     },
     "metadata": {},
     "output_type": "display_data"
    },
    {
     "name": "stdout",
     "output_type": "stream",
     "text": [
      "score: -5\n",
      "400\n"
     ]
    },
    {
     "data": {
      "image/png": "[encoded data removed]",
      "text/plain": [
       "<Figure size 432x288 with 1 Axes>"
      ]
     },
     "metadata": {
      "needs_background": "light"
     },
     "output_type": "display_data"
    }
   ],
   "source": [
    "obs = env.reset()\n",
    "done = False\n",
    "total_reward = 0\n",
    "img = plt.imshow(env.render(mode='rgb_array'))\n",
    "\n",
    "while not done:\n",
    "    action = bmodel.RunBest(obs)\n",
    "    action_reshaped = np.zeros(agent.action_num)\n",
    "    action_reshaped[action] = 1\n",
    "    obs, reward, done, info = env.step(action_reshaped)\n",
    "    total_reward += reward\n",
    "    img.set_data(env.render(mode='rgb_array'))\n",
    "    display.clear_output(wait=True)\n",
    "    display.display(plt.gcf())\n",
    "\n",
    "print(\"score:\", total_reward)\n",
    "print(bmodel.update_index)"
   ]
  },
  {
   "cell_type": "code",
   "execution_count": null,
   "metadata": {},
   "outputs": [],
   "source": []
  }
 ],
 "metadata": {
  "kernelspec": {
   "display_name": "Python 3",
   "language": "python",
   "name": "python3"
  },
  "language_info": {
   "codemirror_mode": {
    "name": "ipython",
    "version": 3
   },
   "file_extension": ".py",
   "mimetype": "text/x-python",
   "name": "python",
   "nbconvert_exporter": "python",
   "pygments_lexer": "ipython3",
   "version": "3.6.9"
  }
 },
 "nbformat": 4,
 "nbformat_minor": 2
}
