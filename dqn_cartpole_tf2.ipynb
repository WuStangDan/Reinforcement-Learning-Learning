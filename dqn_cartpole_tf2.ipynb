{
 "cells": [
  {
   "cell_type": "markdown",
   "metadata": {},
   "source": [
    "# CartPole Warmup"
   ]
  },
  {
   "cell_type": "code",
   "execution_count": 9,
   "metadata": {},
   "outputs": [
    {
     "name": "stdout",
     "output_type": "stream",
     "text": [
      "3.6.9 (default, Jan 26 2021, 15:33:00) \n",
      "[GCC 8.4.0]\n",
      "\n",
      "Tensorflow 2.5.0\n",
      "[PhysicalDevice(name='/physical_device:GPU:0', device_type='GPU')]\n",
      "\n"
     ]
    }
   ],
   "source": [
    "# Imports.\n",
    "import sys\n",
    "print(sys.version)\n",
    "print()\n",
    "from collections import deque\n",
    "import matplotlib.pyplot as plt\n",
    "import gym\n",
    "import random\n",
    "import time\n",
    "import numpy as np\n",
    "from tqdm.notebook import trange\n",
    "import tensorflow as tf\n",
    "print(\"Tensorflow\", tf.__version__)\n",
    "from tensorflow import keras\n",
    "from tensorflow.keras import layers\n",
    "from tensorflow.keras import optimizers\n",
    "print(tf.config.list_physical_devices('GPU'))\n",
    "print()"
   ]
  },
  {
   "cell_type": "code",
   "execution_count": 2,
   "metadata": {},
   "outputs": [],
   "source": [
    "from pyvirtualdisplay import Display\n",
    "display = Display(visible=0, size=(1, 1))\n",
    "display.start()\n",
    "\n",
    "from IPython import display\n",
    "import matplotlib\n",
    "import matplotlib.pyplot as plt\n",
    "%matplotlib inline"
   ]
  },
  {
   "cell_type": "code",
   "execution_count": 3,
   "metadata": {},
   "outputs": [
    {
     "name": "stdout",
     "output_type": "stream",
     "text": [
      "[-0.19268856 -1.95100128  0.23119434  3.03806047]\n",
      "1.0\n"
     ]
    },
    {
     "data": {
      "image/png": "[encoded data removed]",
      "text/plain": [
       "<Figure size 432x288 with 1 Axes>"
      ]
     },
     "metadata": {
      "needs_background": "light"
     },
     "output_type": "display_data"
    }
   ],
   "source": [
    "%matplotlib inline\n",
    "env = gym.make('CartPole-v0')\n",
    "for _ in range(1):\n",
    "    env.reset()\n",
    "    img = plt.imshow(env.render(mode='rgb_array'))\n",
    "    done = False\n",
    "    while not done:\n",
    "        img.set_data(env.render(mode='rgb_array'))\n",
    "        display.display(plt.gcf())\n",
    "        display.clear_output(wait=True)\n",
    "        observation, reward, done, info = env.step(0) # take a random action\n",
    "\n",
    "env.close()\n",
    "print(observation)\n",
    "print(reward)"
   ]
  },
  {
   "cell_type": "markdown",
   "metadata": {},
   "source": [
    "## Deep Q Network Agent"
   ]
  },
  {
   "cell_type": "code",
   "execution_count": 4,
   "metadata": {},
   "outputs": [],
   "source": [
    "class Agent:\n",
    "    def __init__(self, state_num, action_num):\n",
    "        self.action_num = action_num\n",
    "        self.state_num = state_num\n",
    "        self.gamma = 0.95 # Discount rate.\n",
    "        self.batch = 32 # Number of replayed experinces batched together.\n",
    "        self.experiences = deque(maxlen=400) # Total number of experiences.\n",
    "        \n",
    "        # Create NN that will act as function approximator for Q[s,a].\n",
    "        self.model = keras.Sequential()\n",
    "        # First dense layer with relu activation.\n",
    "        self.model.add(layers.Dense(24, input_dim=state_num, activation=\"relu\"))\n",
    "        self.model.add(layers.Dense(24, activation=\"relu\"))\n",
    "        self.model.add(layers.Dense(action_num, activation=\"relu\"))\n",
    "        \n",
    "        # Loss function.\n",
    "        self.model.compile(loss='mse', optimizer=optimizers.Adam(learning_rate=0.001))\n",
    "        \n",
    "        self.model.summary()\n",
    "        \n",
    "        # Create target model copy.\n",
    "        self.target_model = keras.models.clone_model(self.model)\n",
    "        self.target_model.set_weights(self.model.get_weights())\n",
    "        \n",
    "        \n",
    "    def ExploitAction(self, state):\n",
    "        state = np.reshape(state, [1, self.state_num])\n",
    "        # Take the best possible action.\n",
    "        action_values = self.model.predict(state)\n",
    "        exploit_action_index = np.argmax(action_values[0])\n",
    "        return exploit_action_index\n",
    "    \n",
    "    def ExploreAction(self):\n",
    "        # Take a random action to explore the [s,a] space.\n",
    "        return np.random.choice(self.action_num, 1)[0]\n",
    "    \n",
    "    def AddExperience(self, s, a, r, s2, episode_over):\n",
    "        s = np.reshape(s, [1, self.state_num])\n",
    "        s2 = np.reshape(s2, [1, self.state_num])\n",
    "        # Add experience to a que.\n",
    "        self.experiences.append((s, a, r, s2, episode_over))\n",
    "        \n",
    "    def UpdateQ(self):\n",
    "        # Don't start training until experiences is 25% full.\n",
    "        if (len(self.experiences) < (self.experiences.maxlen/4)):\n",
    "            return\n",
    "        \n",
    "        # Select from random experiences excluding most recent.\n",
    "        selected_experiences = random.sample(list(self.experiences)[0:-1], self.batch-1)\n",
    "        # Append most recent experience.\n",
    "        selected_experiences.append(self.experiences[-1])\n",
    "        \n",
    "\n",
    "        # Collect all next state Q values.\n",
    "        s_t1s = np.zeros([self.batch, self.state_num])\n",
    "        for i in range(len(selected_experiences)):\n",
    "            s_t1s[i] = selected_experiences[i][0]\n",
    "        \n",
    "        a_t1_values = self.target_model.predict(s_t1s)\n",
    "        max_a_t1_value = np.amax(a_t1_values, axis=1)\n",
    "        \n",
    "        targets = np.zeros([self.batch, 1])\n",
    "        states = np.zeros([self.batch, self.state_num])\n",
    "        i = 0\n",
    "        for s_t0, a_t0, r_t0, s_t1, over in selected_experiences:\n",
    "            states[i] = s_t0\n",
    "            if (not over):\n",
    "                targets[i] = r_t0 + self.gamma*max_a_t1_value[i]\n",
    "            else:\n",
    "                targets[i] = r_t0\n",
    "            i+=1\n",
    "\n",
    "        self.model.fit(states, targets, verbose=0)"
   ]
  },
  {
   "cell_type": "code",
   "execution_count": 5,
   "metadata": {},
   "outputs": [],
   "source": [
    "def PlayEpisode(env, agent, epsilon):\n",
    "    # Reset playing environment.\n",
    "    observation = env.reset()\n",
    "    \n",
    "    total_episode_reward = 0\n",
    "    \n",
    "    episode_done = False\n",
    "    while not episode_done:\n",
    "        # Explore or exploit.\n",
    "        if (random.random() < epsilon):\n",
    "            # Explore.\n",
    "            action = agent.ExploreAction()\n",
    "        else:\n",
    "            # Exploit.\n",
    "            action = agent.ExploitAction(observation)\n",
    "        \n",
    "        # Perform action and state transition.\n",
    "        next_observation, reward, episode_done, info = env.step(action)\n",
    "        total_episode_reward += reward\n",
    "        \n",
    "        # Punish ending early.\n",
    "        if episode_done and (total_episode_reward < 500):\n",
    "            reward -= 300\n",
    "            \n",
    "        # Add to step to experiences.\n",
    "        agent.AddExperience(observation, action, reward, next_observation, episode_done)\n",
    "        # Train.\n",
    "        agent.UpdateQ()\n",
    "        \n",
    "        # Next observation becomes current.\n",
    "        observation = next_observation\n",
    "    return total_episode_reward"
   ]
  },
  {
   "cell_type": "markdown",
   "metadata": {},
   "source": [
    "### Create Agent and Environment"
   ]
  },
  {
   "cell_type": "code",
   "execution_count": 6,
   "metadata": {},
   "outputs": [
    {
     "name": "stdout",
     "output_type": "stream",
     "text": [
      "Observation Space 4\n",
      "Action Space 2\n",
      "Model: \"sequential\"\n",
      "_________________________________________________________________\n",
      "Layer (type)                 Output Shape              Param #   \n",
      "=================================================================\n",
      "dense (Dense)                (None, 24)                120       \n",
      "_________________________________________________________________\n",
      "dense_1 (Dense)              (None, 24)                600       \n",
      "_________________________________________________________________\n",
      "dense_2 (Dense)              (None, 2)                 50        \n",
      "=================================================================\n",
      "Total params: 770\n",
      "Trainable params: 770\n",
      "Non-trainable params: 0\n",
      "_________________________________________________________________\n"
     ]
    }
   ],
   "source": [
    "env = gym.make('CartPole-v1')\n",
    "print(\"Observation Space \" + str(len(env.observation_space.sample())))\n",
    "print(\"Action Space \" + str(env.action_space.n))\n",
    "\n",
    "agent = Agent(len(env.observation_space.sample()), env.action_space.n)"
   ]
  },
  {
   "cell_type": "markdown",
   "metadata": {},
   "source": [
    "## Run Training"
   ]
  },
  {
   "cell_type": "code",
   "execution_count": 10,
   "metadata": {
    "scrolled": false
   },
   "outputs": [
    {
     "data": {
      "application/vnd.jupyter.widget-view+json": {
       "model_id": "ae2767fcd28447bcb364eeebd3bd5b2a",
       "version_major": 2,
       "version_minor": 0
      },
      "text/plain": [
       "  0%|          | 0/100 [00:00<?, ?it/s]"
      ]
     },
     "metadata": {},
     "output_type": "display_data"
    },
    {
     "name": "stdout",
     "output_type": "stream",
     "text": [
      "\n",
      "Episode 0 Epsilon 1.0 Reward 13.0\n",
      "Elapsed time: 0.75\n",
      "\n",
      "Episode 25 Epsilon 0.2 Reward 9.0\n",
      "Elapsed time: 78.06\n",
      "\n",
      "Episode 50 Epsilon 0.14 Reward 85.0\n",
      "Elapsed time: 34.49\n",
      "\n",
      "Episode 75 Epsilon 0.11 Reward 14.0\n",
      "Elapsed time: 21.75\n"
     ]
    },
    {
     "data": {
      "image/png": "[encoded data removed]",
      "text/plain": [
       "<Figure size 432x288 with 1 Axes>"
      ]
     },
     "metadata": {
      "needs_background": "light"
     },
     "output_type": "display_data"
    }
   ],
   "source": [
    "episode_num = 100\n",
    "episode_rewards = np.zeros(episode_num)\n",
    "\n",
    "start = time.time()\n",
    "for i in trange(episode_num):\n",
    "    # Decay epsilon.\n",
    "    eps = 1.0/np.sqrt(i+1)\n",
    "    \n",
    "    # Play episode.\n",
    "    episode_rewards[i] = PlayEpisode(env, agent, eps)\n",
    "    #print('.', end='')\n",
    "    if i%25 == 0:\n",
    "        agent.target_model.set_weights(agent.model.get_weights())\n",
    "        print(\"\\nEpisode\", i, \"Epsilon\", round(eps,2), \"Reward\", episode_rewards[i])\n",
    "        print(\"Elapsed time:\", round(time.time() - start, 2))\n",
    "        start = time.time()\n",
    "\n",
    "plt.plot(episode_rewards)\n",
    "plt.title(\"Episode Rewards\")\n",
    "plt.show()"
   ]
  },
  {
   "cell_type": "code",
   "execution_count": null,
   "metadata": {},
   "outputs": [],
   "source": []
  },
  {
   "cell_type": "code",
   "execution_count": null,
   "metadata": {},
   "outputs": [],
   "source": []
  },
  {
   "cell_type": "code",
   "execution_count": null,
   "metadata": {},
   "outputs": [],
   "source": []
  },
  {
   "cell_type": "code",
   "execution_count": null,
   "metadata": {},
   "outputs": [],
   "source": []
  },
  {
   "cell_type": "code",
   "execution_count": null,
   "metadata": {},
   "outputs": [],
   "source": []
  }
 ],
 "metadata": {
  "kernelspec": {
   "display_name": "Python 3",
   "language": "python",
   "name": "python3"
  },
  "language_info": {
   "codemirror_mode": {
    "name": "ipython",
    "version": 3
   },
   "file_extension": ".py",
   "mimetype": "text/x-python",
   "name": "python",
   "nbconvert_exporter": "python",
   "pygments_lexer": "ipython3",
   "version": "3.6.9"
  }
 },
 "nbformat": 4,
 "nbformat_minor": 2
}
