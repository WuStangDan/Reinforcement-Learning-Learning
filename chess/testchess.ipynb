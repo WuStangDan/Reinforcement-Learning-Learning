{
 "cells": [
  {
   "cell_type": "markdown",
   "metadata": {},
   "source": [
    "# RL Chess\n",
    "https://github.com/iamlucaswolf/gym-chess/blob/6a5eb43650c400a556505ec035cc3a3c5792f8b2/gym_chess/alphazero/board_encoding.py#L10"
   ]
  },
  {
   "cell_type": "code",
   "execution_count": 10,
   "metadata": {},
   "outputs": [
    {
     "name": "stdout",
     "output_type": "stream",
     "text": [
      "3.6.9 (default, Jan 26 2021, 15:33:00) \n",
      "[GCC 8.4.0]\n",
      "\n",
      "None\n",
      "None\n",
      "♜ ♞ ♝ ♛ ♚ ♝ ♞ ♜\n",
      "♟ ♟ ♟ ♟ ♟ ♟ ♟ ♟\n",
      "⭘ ⭘ ⭘ ⭘ ⭘ ⭘ ⭘ ⭘\n",
      "⭘ ⭘ ⭘ ⭘ ⭘ ⭘ ⭘ ⭘\n",
      "⭘ ⭘ ⭘ ⭘ ⭘ ⭘ ⭘ ⭘\n",
      "⭘ ⭘ ⭘ ⭘ ⭘ ⭘ ⭘ ⭘\n",
      "♙ ♙ ♙ ♙ ♙ ♙ ♙ ♙\n",
      "♖ ♘ ♗ ♕ ♔ ♗ ♘ ♖\n",
      "START\n",
      "k . . . . . . .\n",
      ". . . . . . . b\n",
      ". . . . . . . .\n",
      ". . . . . . K .\n",
      ". . . . . . . .\n",
      ". . . . . . . .\n",
      ". . . . . . . .\n",
      ". . . . . . . .\n",
      "0.0\n",
      "True\n",
      "None\n"
     ]
    }
   ],
   "source": [
    "# Watch random play\n",
    "import sys\n",
    "print(sys.version)\n",
    "print()\n",
    "import gym\n",
    "import chess\n",
    "import gym_chess\n",
    "import random\n",
    "\n",
    "env = gym.make('Chess-v0')\n",
    "env.reset()\n",
    "print(env.observation_space)\n",
    "print(env.action_space)\n",
    "print(env.render())\n",
    "print(\"START\")\n",
    "\n",
    "done = False\n",
    "\n",
    "while not done:\n",
    "    action = random.sample(env.legal_moves,1)\n",
    "    action[0]\n",
    "    observation, reward, done, info = env.step(action[0])\n",
    "    env.render(mode='unicode')\n",
    "\n",
    "env.close()\n",
    "print(observation)\n",
    "print(reward)\n",
    "print(done)\n",
    "print(info)"
   ]
  },
  {
   "cell_type": "code",
   "execution_count": 21,
   "metadata": {},
   "outputs": [
    {
     "name": "stdout",
     "output_type": "stream",
     "text": [
      "Box(0, 9223372036854775807, (8, 8, 119), int64)\n",
      "Discrete(4672)\n",
      "[Move.from_uci('g1h3'), Move.from_uci('g1f3'), Move.from_uci('b1c3'), Move.from_uci('b1a3'), Move.from_uci('h2h3'), Move.from_uci('g2g3'), Move.from_uci('f2f3'), Move.from_uci('e2e3'), Move.from_uci('d2d3'), Move.from_uci('c2c3'), Move.from_uci('b2b3'), Move.from_uci('a2a3'), Move.from_uci('h2h4'), Move.from_uci('g2g4'), Move.from_uci('f2f4'), Move.from_uci('e2e4'), Move.from_uci('d2d4'), Move.from_uci('c2c4'), Move.from_uci('b2b4'), Move.from_uci('a2a4')]\n",
      "[494, 501, 129, 136, 1095, 1022, 949, 876, 803, 730, 657, 584, 1096, 1023, 950, 877, 804, 731, 658, 585]\n"
     ]
    }
   ],
   "source": [
    "env = gym.make('ChessAlphaZero-v0')\n",
    "env.reset()\n",
    "print(env.observation_space)\n",
    "print(env.action_space)\n",
    "print(env.legal_moves)\n",
    "print(env.legal_actions)"
   ]
  },
  {
   "cell_type": "code",
   "execution_count": 22,
   "metadata": {},
   "outputs": [
    {
     "name": "stdout",
     "output_type": "stream",
     "text": [
      "g1h3\n",
      "g1h3\n"
     ]
    }
   ],
   "source": [
    "move = env.legal_moves[0]\n",
    "print(move)\n",
    "num = env.encode(move)\n",
    "print(env.decode(num))"
   ]
  },
  {
   "cell_type": "code",
   "execution_count": 38,
   "metadata": {},
   "outputs": [
    {
     "name": "stdout",
     "output_type": "stream",
     "text": [
      "(8, 8, 119)\n",
      "0.0\n",
      "False\n",
      "None\n"
     ]
    }
   ],
   "source": [
    "for i in range(1):\n",
    "    action = random.sample(env.legal_actions,1)[-1]\n",
    "    observation, reward, done, info = env.step(action)\n",
    "    print(observation.shape)\n",
    "    print(reward)\n",
    "    print(done)\n",
    "    print(info)"
   ]
  },
  {
   "cell_type": "code",
   "execution_count": 35,
   "metadata": {},
   "outputs": [
    {
     "name": "stdout",
     "output_type": "stream",
     "text": [
      "129\n"
     ]
    }
   ],
   "source": [
    "action = random.sample(env.legal_actions,1)[-1]\n",
    "print(action)"
   ]
  },
  {
   "cell_type": "code",
   "execution_count": null,
   "metadata": {},
   "outputs": [],
   "source": []
  },
  {
   "cell_type": "code",
   "execution_count": null,
   "metadata": {},
   "outputs": [],
   "source": []
  },
  {
   "cell_type": "code",
   "execution_count": null,
   "metadata": {},
   "outputs": [],
   "source": []
  }
 ],
 "metadata": {
  "kernelspec": {
   "display_name": "Python 3",
   "language": "python",
   "name": "python3"
  },
  "language_info": {
   "codemirror_mode": {
    "name": "ipython",
    "version": 3
   },
   "file_extension": ".py",
   "mimetype": "text/x-python",
   "name": "python",
   "nbconvert_exporter": "python",
   "pygments_lexer": "ipython3",
   "version": "3.6.9"
  }
 },
 "nbformat": 4,
 "nbformat_minor": 2
}
